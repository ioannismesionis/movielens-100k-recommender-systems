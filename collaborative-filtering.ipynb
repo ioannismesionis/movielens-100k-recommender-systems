{
 "cells": [
  {
   "cell_type": "markdown",
   "metadata": {},
   "source": [
    "# 1. Introduction"
   ]
  },
  {
   "cell_type": "markdown",
   "metadata": {},
   "source": [
    "The primary goal of a recommender system is to increase \"product\" sales. Recommender systems are, after all, utilized by merchants to increase their profits. Although the primary goal of a recommendation system is to increase revenue for the merchant, this is often achieved in ways that are less obvious than might seem at first sight. \n",
    "\n",
    "In order to achieve the broader business-centric goal of increasing revenue, the common operational and technical goals of recommender systems are as follows:\n",
    "1. *Relevance:* \n",
    "   - Recommend items that are relevant to the user.\n",
    "2. *Novelty:* \n",
    "   - Recommend items that the user has not seen in the past.\n",
    "3. *Serendipity:* \n",
    "   - Recommend items that that somewhat \"unexpected\" (i.e. surprising to the user).\n",
    "4. *Recommendation Diversity*:\n",
    "   - Recommend items that are not very similar.\n",
    "\n",
    "Also, providing the user an explanation for why a particular item is recommended is often useful. For example, in the case of Netflix, recommendations are provided along with previously watched movies."
   ]
  },
  {
   "cell_type": "markdown",
   "metadata": {},
   "source": [
    "### 1a. Types of Recommenders"
   ]
  },
  {
   "cell_type": "markdown",
   "metadata": {},
   "source": [
    "The basic models for recommender systems work with two kinds of data, which are:\n",
    "- (i) the user-item interactions, such as ratings or buying behavior.\n",
    "- (ii) the attribute information about the users and items such as textual profiles or relevant keywords.\n",
    "\n",
    "Methods that use the former are referred to as **collaborative filtering** methods, whereas methods that use the latter are referred to as **content-based** recommender methods. Note that content-based systems also use the ratings matrices in most cases, although the model is usually focused on the ratings of a single user rather than those of all users. In **knowledge-based** recommender systems,\n",
    "the recommendations are based on explicitly specified user requirements Instead of using historical rating or buying data, external knowledge bases and constraints are used to create the recommendation."
   ]
  },
  {
   "cell_type": "markdown",
   "metadata": {},
   "source": [
    "| **Approach**             | **Conceptual Goal**                                            | **Input**                                    |\n",
    "|----------------------|-------------------------------------------------|------------------------------------------|\n",
    "| **Collaborative Filtering** | Recommend items based on collaborative approach that leverages the ratings and actions of my peers/myself | User ratings + community ratings|\n",
    "| **Content-Based**        | Recommend items based on the content (attributes) I have favored in my past ratings and actions | User ratings + item attributes (e.g., description, genre) |\n",
    "| **Knowledge-based**               | Recommend items based on my explicit specification of the kind of content (attributes) I want | User specification + item attributes + domain knowledge |\n"
   ]
  },
  {
   "cell_type": "markdown",
   "metadata": {},
   "source": [
    "### 1b. Types of Feedback"
   ]
  },
  {
   "cell_type": "markdown",
   "metadata": {},
   "source": [
    "The design of recommendation algorithms is influenced by the system used for tracking ratings (i.e. the user-item interaction). The ratings are often specified on a scale that indicates the specific level of like or dislike of the item at hand. There are two types of feedback as follows:\n",
    "\n",
    "**Type of Feedback:** <br>\n",
    "    - *Explicit* Feedback: Ratings, Likes, Dislikes <br>\n",
    "    - *Implicit* Feedback: Views, Clicks, Purchases <br>\n",
    "\n",
    "These can take the form of:\n",
    "   - *Interval:* 1 to 5 (i.e. 1, 2, 3, 4, 5), -10 to 10 (i.e. -10, -9, ... , 9, 10)\n",
    "   - *Ordinal:* Strongly agree, Agree, Neutral, Disagree, Strongly disagree (difference is that the distant between these is not always equal)\n",
    "   - *Binary:* Like, Dislike (special case of interval and ordinal)\n",
    "   - *Unary:* Allow the users to only specify positive feedback (e.g. \"like\" on facebook)\n",
    "\n",
    "Note that possible ratings might vary with the system at hand. Along each of the possible ratings, we have indicated a semantic interpretation of the user’s level of interest. This interpretation might vary slightly across different merchants, such as Amazon or Netflix. For example, Netflix uses a 5-star ratings system in which the 4-star point corresponds to “really liked it,” and the central 3-star point corresponds to “liked it.” Therefore, there are three favorable ratings and two unfavorable ratings in Netflix, which leads to an unbalanced rating scale."
   ]
  },
  {
   "cell_type": "markdown",
   "metadata": {},
   "source": [
    "# 2. Collaborative Filtering"
   ]
  },
  {
   "cell_type": "markdown",
   "metadata": {},
   "source": [
    "**Collaborative filtering models** use the collaborative power of the ratings provided by multiple users to make recommendations. The basic idea of collaborative filtering methods is that these unspecified ratings can be imputed because the observed ratings are often highly correlated across various users and items."
   ]
  },
  {
   "cell_type": "markdown",
   "metadata": {},
   "source": [
    "There are two types of methods that are commonly used in collaborative filtering, which are referred to as:\n",
    "1. **Memory-based methods:** Memory-based methods are also referred to as neighborhood-based collaborative filtering algorithms and can be defined in one of two ways:\n",
    "\n",
    "   a. *User-based* collaborative filtering: <br> In this case, the ratings provided by like-minded users of a target user A are used in order to make the recommendations for A. Thus, the basic idea is to determine users, who are similar to the target user A, and recommend ratings for the unobserved ratings of A by computing weighted averages of the ratings of this peer group.\n",
    "\n",
    "   b. *Item-based* collaborative filtering: <br> For example, user's ratings on similar science fiction movies like Alien and Predator can be used to predict his rating on Terminator. Similarity functions are computed between the columns of the ratings matrix to discover similar items.\n",
    "\n",
    "2. **Model-based methods:** In model-based methods, machine learning and data mining methods are used in the context of predictive models. In cases where the model is parameterised, the parameters of this model are learned within the context of an optimization framework."
   ]
  },
  {
   "cell_type": "markdown",
   "metadata": {},
   "source": [
    "In the next couple of cells, we will explore the famous MovieLens 100K dataset for the purposes of collaborative filtering and implement some of the most popular collaborative filtering techniques to recommend items to users."
   ]
  },
  {
   "cell_type": "code",
   "execution_count": 2,
   "metadata": {},
   "outputs": [
    {
     "name": "stderr",
     "output_type": "stream",
     "text": [
      "/Users/atawua/.local/share/virtualenvs/movielens-100k-recommender-systems-Tq6dyjba/lib/python3.11/site-packages/tqdm/auto.py:21: TqdmWarning: IProgress not found. Please update jupyter and ipywidgets. See https://ipywidgets.readthedocs.io/en/stable/user_install.html\n",
      "  from .autonotebook import tqdm as notebook_tqdm\n"
     ]
    }
   ],
   "source": [
    "# Import common python libraries\n",
    "import pandas as pd\n",
    "import numpy as np\n",
    "import matplotlib.pyplot as plt\n",
    "import seaborn as sns\n",
    "\n",
    "# Import cornac library (for collaborative filtering)\n",
    "from cornac.datasets import movielens\n",
    "\n",
    "# Silence warnings\n",
    "import warnings\n",
    "\n",
    "warnings.filterwarnings(\"ignore\")"
   ]
  },
  {
   "cell_type": "code",
   "execution_count": 3,
   "metadata": {},
   "outputs": [
    {
     "name": "stdout",
     "output_type": "stream",
     "text": [
      "Data from http://files.grouplens.org/datasets/movielens/ml-100k/u.data\n",
      "will be cached into /Users/atawua/.cornac/ml-100k/u.data\n"
     ]
    },
    {
     "name": "stderr",
     "output_type": "stream",
     "text": [
      "1.99MB [00:03, 613kB/s]                             "
     ]
    },
    {
     "name": "stdout",
     "output_type": "stream",
     "text": [
      "File cached!\n"
     ]
    },
    {
     "name": "stderr",
     "output_type": "stream",
     "text": [
      "\n"
     ]
    },
    {
     "data": {
      "text/html": [
       "<div>\n",
       "<style scoped>\n",
       "    .dataframe tbody tr th:only-of-type {\n",
       "        vertical-align: middle;\n",
       "    }\n",
       "\n",
       "    .dataframe tbody tr th {\n",
       "        vertical-align: top;\n",
       "    }\n",
       "\n",
       "    .dataframe thead th {\n",
       "        text-align: right;\n",
       "    }\n",
       "</style>\n",
       "<table border=\"1\" class=\"dataframe\">\n",
       "  <thead>\n",
       "    <tr style=\"text-align: right;\">\n",
       "      <th></th>\n",
       "      <th>user_id</th>\n",
       "      <th>item_id</th>\n",
       "      <th>rating</th>\n",
       "    </tr>\n",
       "  </thead>\n",
       "  <tbody>\n",
       "    <tr>\n",
       "      <th>0</th>\n",
       "      <td>196</td>\n",
       "      <td>242</td>\n",
       "      <td>3.0</td>\n",
       "    </tr>\n",
       "    <tr>\n",
       "      <th>1</th>\n",
       "      <td>186</td>\n",
       "      <td>302</td>\n",
       "      <td>3.0</td>\n",
       "    </tr>\n",
       "    <tr>\n",
       "      <th>2</th>\n",
       "      <td>22</td>\n",
       "      <td>377</td>\n",
       "      <td>1.0</td>\n",
       "    </tr>\n",
       "    <tr>\n",
       "      <th>3</th>\n",
       "      <td>244</td>\n",
       "      <td>51</td>\n",
       "      <td>2.0</td>\n",
       "    </tr>\n",
       "    <tr>\n",
       "      <th>4</th>\n",
       "      <td>166</td>\n",
       "      <td>346</td>\n",
       "      <td>1.0</td>\n",
       "    </tr>\n",
       "  </tbody>\n",
       "</table>\n",
       "</div>"
      ],
      "text/plain": [
       "  user_id item_id  rating\n",
       "0     196     242     3.0\n",
       "1     186     302     3.0\n",
       "2      22     377     1.0\n",
       "3     244      51     2.0\n",
       "4     166     346     1.0"
      ]
     },
     "execution_count": 3,
     "metadata": {},
     "output_type": "execute_result"
    }
   ],
   "source": [
    "# Load the 100K MovieLens dataset from cornac\n",
    "cornac_ratings = movielens.load_feedback(variant=\"100K\") \n",
    "\n",
    "# Convert to pd.DataFrame for ease of exploration\n",
    "ratings_df = pd.DataFrame(cornac_ratings, columns=[\"user_id\", \"item_id\", \"rating\"])\n",
    "ratings_df.head()\n"
   ]
  },
  {
   "cell_type": "code",
   "execution_count": 4,
   "metadata": {},
   "outputs": [
    {
     "name": "stdout",
     "output_type": "stream",
     "text": [
      "Unique # of users:  943\n",
      "Unique # of items:  1682\n"
     ]
    }
   ],
   "source": [
    "print(\"Unique # of users: \", ratings_df[\"user_id\"].nunique())\n",
    "print(\"Unique # of items: \", ratings_df[\"item_id\"].nunique())"
   ]
  },
  {
   "cell_type": "code",
   "execution_count": 5,
   "metadata": {},
   "outputs": [
    {
     "name": "stdout",
     "output_type": "stream",
     "text": [
      "<class 'pandas.core.frame.DataFrame'>\n",
      "RangeIndex: 100000 entries, 0 to 99999\n",
      "Data columns (total 3 columns):\n",
      " #   Column   Non-Null Count   Dtype  \n",
      "---  ------   --------------   -----  \n",
      " 0   user_id  100000 non-null  object \n",
      " 1   item_id  100000 non-null  object \n",
      " 2   rating   100000 non-null  float64\n",
      "dtypes: float64(1), object(2)\n",
      "memory usage: 2.3+ MB\n"
     ]
    }
   ],
   "source": [
    "# Get information about the ratings data\n",
    "ratings_df.info()"
   ]
  },
  {
   "cell_type": "code",
   "execution_count": 6,
   "metadata": {},
   "outputs": [
    {
     "data": {
      "text/plain": [
       "[1.0, 2.0, 3.0, 4.0, 5.0]"
      ]
     },
     "execution_count": 6,
     "metadata": {},
     "output_type": "execute_result"
    }
   ],
   "source": [
    "# Explore the type of rating\n",
    "sorted(ratings_df.rating.unique())\n",
    "\n",
    "# NOTE:\n",
    "# [Implicit, Explicit] -> Explicit\n",
    "# [Interval, Ordinal, Binary, Unary] -> Interval (1-5)"
   ]
  },
  {
   "cell_type": "markdown",
   "metadata": {},
   "source": [
    "The distribution of ratings among items often satisfies a property in real-world settings, which is referred to as the <b>*long-tail*</b> property. According to this property, only a small fraction of the items are rated frequently. Such items are referred to as popular items. And because the vast majority of items are rated rarely, this results in a highly skewed distribution of the underlying ratings."
   ]
  },
  {
   "cell_type": "code",
   "execution_count": 7,
   "metadata": {},
   "outputs": [
    {
     "data": {
      "image/png": "[encoded data removed]",
      "text/plain": [
       "<Figure size 2100x1000 with 1 Axes>"
      ]
     },
     "metadata": {},
     "output_type": "display_data"
    }
   ],
   "source": [
    "# Demonstrate long-tail problem\n",
    "ratings_per_movie = ratings_df.groupby('item_id').size().reset_index(name='count')\n",
    "\n",
    "# Plot the total amount a movie has been rated in descending order\n",
    "plt.figure(figsize=(21, 10))\n",
    "sns.barplot(\n",
    "    x=\"item_id\",\n",
    "    y=\"count\",\n",
    "    data=ratings_per_movie, \n",
    "    order=ratings_per_movie.sort_values(\"count\", ascending=False)[\"item_id\"]\n",
    "    )\n",
    "plt.title(\"Long Tail of Movie Ratings\")\n",
    "plt.tight_layout()\n",
    "\n",
    "# NOTE:\n",
    "# Capture what the long tail problem is and how it affects collaborative filtering"
   ]
  },
  {
   "cell_type": "markdown",
   "metadata": {},
   "source": [
    "In many cases, the high-frequency items tend to be relatively competitive items with little profit for the merchant. On the other hand, the lower frequency items have larger profit margins. In such cases, it may be advantageous to the merchant to recommend lower frequency items. In fact, analysis suggests that many companies, such as Amazon.com, make most of their profit by selling items in the long tail.\n",
    "\n",
    "Because of the rarity of observed ratings in the long tail it is generally more difficult to provide robust rating predictions in the long tail. In fact, many recommendation algorithms have a tendency to suggest popular items rather than infrequent items. This phenomenon also has a **negative impact on diversity** and users may often become bored by receiving the same set of recommendations of popular items."
   ]
  },
  {
   "cell_type": "code",
   "execution_count": 8,
   "metadata": {},
   "outputs": [
    {
     "data": {
      "text/html": [
       "<div>\n",
       "<style scoped>\n",
       "    .dataframe tbody tr th:only-of-type {\n",
       "        vertical-align: middle;\n",
       "    }\n",
       "\n",
       "    .dataframe tbody tr th {\n",
       "        vertical-align: top;\n",
       "    }\n",
       "\n",
       "    .dataframe thead th {\n",
       "        text-align: right;\n",
       "    }\n",
       "</style>\n",
       "<table border=\"1\" class=\"dataframe\">\n",
       "  <thead>\n",
       "    <tr style=\"text-align: right;\">\n",
       "      <th></th>\n",
       "      <th>user_id</th>\n",
       "      <th>item_id</th>\n",
       "      <th>rating</th>\n",
       "    </tr>\n",
       "  </thead>\n",
       "  <tbody>\n",
       "    <tr>\n",
       "      <th>0</th>\n",
       "      <td>196</td>\n",
       "      <td>242</td>\n",
       "      <td>3.0</td>\n",
       "    </tr>\n",
       "    <tr>\n",
       "      <th>940</th>\n",
       "      <td>196</td>\n",
       "      <td>393</td>\n",
       "      <td>4.0</td>\n",
       "    </tr>\n",
       "    <tr>\n",
       "      <th>1133</th>\n",
       "      <td>196</td>\n",
       "      <td>381</td>\n",
       "      <td>4.0</td>\n",
       "    </tr>\n",
       "    <tr>\n",
       "      <th>1812</th>\n",
       "      <td>196</td>\n",
       "      <td>251</td>\n",
       "      <td>3.0</td>\n",
       "    </tr>\n",
       "    <tr>\n",
       "      <th>1896</th>\n",
       "      <td>196</td>\n",
       "      <td>655</td>\n",
       "      <td>5.0</td>\n",
       "    </tr>\n",
       "    <tr>\n",
       "      <th>2374</th>\n",
       "      <td>196</td>\n",
       "      <td>67</td>\n",
       "      <td>5.0</td>\n",
       "    </tr>\n",
       "    <tr>\n",
       "      <th>6910</th>\n",
       "      <td>196</td>\n",
       "      <td>306</td>\n",
       "      <td>4.0</td>\n",
       "    </tr>\n",
       "    <tr>\n",
       "      <th>7517</th>\n",
       "      <td>196</td>\n",
       "      <td>238</td>\n",
       "      <td>4.0</td>\n",
       "    </tr>\n",
       "    <tr>\n",
       "      <th>7842</th>\n",
       "      <td>196</td>\n",
       "      <td>663</td>\n",
       "      <td>5.0</td>\n",
       "    </tr>\n",
       "    <tr>\n",
       "      <th>10017</th>\n",
       "      <td>196</td>\n",
       "      <td>111</td>\n",
       "      <td>4.0</td>\n",
       "    </tr>\n",
       "    <tr>\n",
       "      <th>10254</th>\n",
       "      <td>196</td>\n",
       "      <td>580</td>\n",
       "      <td>2.0</td>\n",
       "    </tr>\n",
       "    <tr>\n",
       "      <th>10981</th>\n",
       "      <td>196</td>\n",
       "      <td>25</td>\n",
       "      <td>4.0</td>\n",
       "    </tr>\n",
       "    <tr>\n",
       "      <th>13733</th>\n",
       "      <td>196</td>\n",
       "      <td>286</td>\n",
       "      <td>5.0</td>\n",
       "    </tr>\n",
       "    <tr>\n",
       "      <th>14606</th>\n",
       "      <td>196</td>\n",
       "      <td>94</td>\n",
       "      <td>3.0</td>\n",
       "    </tr>\n",
       "    <tr>\n",
       "      <th>16834</th>\n",
       "      <td>196</td>\n",
       "      <td>692</td>\n",
       "      <td>5.0</td>\n",
       "    </tr>\n",
       "    <tr>\n",
       "      <th>17102</th>\n",
       "      <td>196</td>\n",
       "      <td>8</td>\n",
       "      <td>5.0</td>\n",
       "    </tr>\n",
       "    <tr>\n",
       "      <th>17830</th>\n",
       "      <td>196</td>\n",
       "      <td>428</td>\n",
       "      <td>4.0</td>\n",
       "    </tr>\n",
       "    <tr>\n",
       "      <th>18853</th>\n",
       "      <td>196</td>\n",
       "      <td>1118</td>\n",
       "      <td>4.0</td>\n",
       "    </tr>\n",
       "    <tr>\n",
       "      <th>21605</th>\n",
       "      <td>196</td>\n",
       "      <td>70</td>\n",
       "      <td>3.0</td>\n",
       "    </tr>\n",
       "    <tr>\n",
       "      <th>22271</th>\n",
       "      <td>196</td>\n",
       "      <td>66</td>\n",
       "      <td>3.0</td>\n",
       "    </tr>\n",
       "    <tr>\n",
       "      <th>22773</th>\n",
       "      <td>196</td>\n",
       "      <td>257</td>\n",
       "      <td>2.0</td>\n",
       "    </tr>\n",
       "    <tr>\n",
       "      <th>23189</th>\n",
       "      <td>196</td>\n",
       "      <td>108</td>\n",
       "      <td>4.0</td>\n",
       "    </tr>\n",
       "    <tr>\n",
       "      <th>24030</th>\n",
       "      <td>196</td>\n",
       "      <td>202</td>\n",
       "      <td>3.0</td>\n",
       "    </tr>\n",
       "    <tr>\n",
       "      <th>25726</th>\n",
       "      <td>196</td>\n",
       "      <td>340</td>\n",
       "      <td>3.0</td>\n",
       "    </tr>\n",
       "    <tr>\n",
       "      <th>32721</th>\n",
       "      <td>196</td>\n",
       "      <td>287</td>\n",
       "      <td>3.0</td>\n",
       "    </tr>\n",
       "    <tr>\n",
       "      <th>33536</th>\n",
       "      <td>196</td>\n",
       "      <td>116</td>\n",
       "      <td>3.0</td>\n",
       "    </tr>\n",
       "    <tr>\n",
       "      <th>35197</th>\n",
       "      <td>196</td>\n",
       "      <td>382</td>\n",
       "      <td>4.0</td>\n",
       "    </tr>\n",
       "    <tr>\n",
       "      <th>36281</th>\n",
       "      <td>196</td>\n",
       "      <td>285</td>\n",
       "      <td>5.0</td>\n",
       "    </tr>\n",
       "    <tr>\n",
       "      <th>41539</th>\n",
       "      <td>196</td>\n",
       "      <td>1241</td>\n",
       "      <td>3.0</td>\n",
       "    </tr>\n",
       "    <tr>\n",
       "      <th>42384</th>\n",
       "      <td>196</td>\n",
       "      <td>1007</td>\n",
       "      <td>4.0</td>\n",
       "    </tr>\n",
       "    <tr>\n",
       "      <th>50147</th>\n",
       "      <td>196</td>\n",
       "      <td>411</td>\n",
       "      <td>4.0</td>\n",
       "    </tr>\n",
       "    <tr>\n",
       "      <th>52726</th>\n",
       "      <td>196</td>\n",
       "      <td>153</td>\n",
       "      <td>5.0</td>\n",
       "    </tr>\n",
       "    <tr>\n",
       "      <th>56628</th>\n",
       "      <td>196</td>\n",
       "      <td>13</td>\n",
       "      <td>2.0</td>\n",
       "    </tr>\n",
       "    <tr>\n",
       "      <th>59165</th>\n",
       "      <td>196</td>\n",
       "      <td>762</td>\n",
       "      <td>3.0</td>\n",
       "    </tr>\n",
       "    <tr>\n",
       "      <th>59607</th>\n",
       "      <td>196</td>\n",
       "      <td>173</td>\n",
       "      <td>2.0</td>\n",
       "    </tr>\n",
       "    <tr>\n",
       "      <th>60199</th>\n",
       "      <td>196</td>\n",
       "      <td>1022</td>\n",
       "      <td>4.0</td>\n",
       "    </tr>\n",
       "    <tr>\n",
       "      <th>60706</th>\n",
       "      <td>196</td>\n",
       "      <td>845</td>\n",
       "      <td>4.0</td>\n",
       "    </tr>\n",
       "    <tr>\n",
       "      <th>78787</th>\n",
       "      <td>196</td>\n",
       "      <td>269</td>\n",
       "      <td>3.0</td>\n",
       "    </tr>\n",
       "    <tr>\n",
       "      <th>87863</th>\n",
       "      <td>196</td>\n",
       "      <td>110</td>\n",
       "      <td>1.0</td>\n",
       "    </tr>\n",
       "  </tbody>\n",
       "</table>\n",
       "</div>"
      ],
      "text/plain": [
       "      user_id item_id  rating\n",
       "0         196     242     3.0\n",
       "940       196     393     4.0\n",
       "1133      196     381     4.0\n",
       "1812      196     251     3.0\n",
       "1896      196     655     5.0\n",
       "2374      196      67     5.0\n",
       "6910      196     306     4.0\n",
       "7517      196     238     4.0\n",
       "7842      196     663     5.0\n",
       "10017     196     111     4.0\n",
       "10254     196     580     2.0\n",
       "10981     196      25     4.0\n",
       "13733     196     286     5.0\n",
       "14606     196      94     3.0\n",
       "16834     196     692     5.0\n",
       "17102     196       8     5.0\n",
       "17830     196     428     4.0\n",
       "18853     196    1118     4.0\n",
       "21605     196      70     3.0\n",
       "22271     196      66     3.0\n",
       "22773     196     257     2.0\n",
       "23189     196     108     4.0\n",
       "24030     196     202     3.0\n",
       "25726     196     340     3.0\n",
       "32721     196     287     3.0\n",
       "33536     196     116     3.0\n",
       "35197     196     382     4.0\n",
       "36281     196     285     5.0\n",
       "41539     196    1241     3.0\n",
       "42384     196    1007     4.0\n",
       "50147     196     411     4.0\n",
       "52726     196     153     5.0\n",
       "56628     196      13     2.0\n",
       "59165     196     762     3.0\n",
       "59607     196     173     2.0\n",
       "60199     196    1022     4.0\n",
       "60706     196     845     4.0\n",
       "78787     196     269     3.0\n",
       "87863     196     110     1.0"
      ]
     },
     "execution_count": 8,
     "metadata": {},
     "output_type": "execute_result"
    }
   ],
   "source": [
    "# Explore the example of a random user (i.e. user 196)\n",
    "ratings_df[ratings_df[\"user_id\"] == \"196\"]"
   ]
  },
  {
   "cell_type": "code",
   "execution_count": 9,
   "metadata": {},
   "outputs": [
    {
     "data": {
      "text/html": [
       "<div>\n",
       "<style scoped>\n",
       "    .dataframe tbody tr th:only-of-type {\n",
       "        vertical-align: middle;\n",
       "    }\n",
       "\n",
       "    .dataframe tbody tr th {\n",
       "        vertical-align: top;\n",
       "    }\n",
       "\n",
       "    .dataframe thead th {\n",
       "        text-align: right;\n",
       "    }\n",
       "</style>\n",
       "<table border=\"1\" class=\"dataframe\">\n",
       "  <thead>\n",
       "    <tr style=\"text-align: right;\">\n",
       "      <th>item_id</th>\n",
       "      <th>1</th>\n",
       "      <th>10</th>\n",
       "      <th>100</th>\n",
       "      <th>1000</th>\n",
       "      <th>1001</th>\n",
       "      <th>1002</th>\n",
       "      <th>1003</th>\n",
       "      <th>1004</th>\n",
       "      <th>1005</th>\n",
       "      <th>1006</th>\n",
       "      <th>...</th>\n",
       "      <th>990</th>\n",
       "      <th>991</th>\n",
       "      <th>992</th>\n",
       "      <th>993</th>\n",
       "      <th>994</th>\n",
       "      <th>995</th>\n",
       "      <th>996</th>\n",
       "      <th>997</th>\n",
       "      <th>998</th>\n",
       "      <th>999</th>\n",
       "    </tr>\n",
       "    <tr>\n",
       "      <th>user_id</th>\n",
       "      <th></th>\n",
       "      <th></th>\n",
       "      <th></th>\n",
       "      <th></th>\n",
       "      <th></th>\n",
       "      <th></th>\n",
       "      <th></th>\n",
       "      <th></th>\n",
       "      <th></th>\n",
       "      <th></th>\n",
       "      <th></th>\n",
       "      <th></th>\n",
       "      <th></th>\n",
       "      <th></th>\n",
       "      <th></th>\n",
       "      <th></th>\n",
       "      <th></th>\n",
       "      <th></th>\n",
       "      <th></th>\n",
       "      <th></th>\n",
       "      <th></th>\n",
       "    </tr>\n",
       "  </thead>\n",
       "  <tbody>\n",
       "    <tr>\n",
       "      <th>1</th>\n",
       "      <td>5.0</td>\n",
       "      <td>3.0</td>\n",
       "      <td>5.0</td>\n",
       "      <td>NaN</td>\n",
       "      <td>NaN</td>\n",
       "      <td>NaN</td>\n",
       "      <td>NaN</td>\n",
       "      <td>NaN</td>\n",
       "      <td>NaN</td>\n",
       "      <td>NaN</td>\n",
       "      <td>...</td>\n",
       "      <td>NaN</td>\n",
       "      <td>NaN</td>\n",
       "      <td>NaN</td>\n",
       "      <td>NaN</td>\n",
       "      <td>NaN</td>\n",
       "      <td>NaN</td>\n",
       "      <td>NaN</td>\n",
       "      <td>NaN</td>\n",
       "      <td>NaN</td>\n",
       "      <td>NaN</td>\n",
       "    </tr>\n",
       "    <tr>\n",
       "      <th>10</th>\n",
       "      <td>4.0</td>\n",
       "      <td>NaN</td>\n",
       "      <td>5.0</td>\n",
       "      <td>NaN</td>\n",
       "      <td>NaN</td>\n",
       "      <td>NaN</td>\n",
       "      <td>NaN</td>\n",
       "      <td>NaN</td>\n",
       "      <td>NaN</td>\n",
       "      <td>NaN</td>\n",
       "      <td>...</td>\n",
       "      <td>NaN</td>\n",
       "      <td>NaN</td>\n",
       "      <td>NaN</td>\n",
       "      <td>NaN</td>\n",
       "      <td>NaN</td>\n",
       "      <td>NaN</td>\n",
       "      <td>NaN</td>\n",
       "      <td>NaN</td>\n",
       "      <td>NaN</td>\n",
       "      <td>NaN</td>\n",
       "    </tr>\n",
       "    <tr>\n",
       "      <th>100</th>\n",
       "      <td>NaN</td>\n",
       "      <td>NaN</td>\n",
       "      <td>NaN</td>\n",
       "      <td>NaN</td>\n",
       "      <td>NaN</td>\n",
       "      <td>NaN</td>\n",
       "      <td>NaN</td>\n",
       "      <td>NaN</td>\n",
       "      <td>NaN</td>\n",
       "      <td>NaN</td>\n",
       "      <td>...</td>\n",
       "      <td>3.0</td>\n",
       "      <td>NaN</td>\n",
       "      <td>NaN</td>\n",
       "      <td>NaN</td>\n",
       "      <td>NaN</td>\n",
       "      <td>NaN</td>\n",
       "      <td>NaN</td>\n",
       "      <td>NaN</td>\n",
       "      <td>NaN</td>\n",
       "      <td>NaN</td>\n",
       "    </tr>\n",
       "    <tr>\n",
       "      <th>101</th>\n",
       "      <td>3.0</td>\n",
       "      <td>NaN</td>\n",
       "      <td>NaN</td>\n",
       "      <td>NaN</td>\n",
       "      <td>NaN</td>\n",
       "      <td>NaN</td>\n",
       "      <td>NaN</td>\n",
       "      <td>NaN</td>\n",
       "      <td>NaN</td>\n",
       "      <td>NaN</td>\n",
       "      <td>...</td>\n",
       "      <td>NaN</td>\n",
       "      <td>NaN</td>\n",
       "      <td>NaN</td>\n",
       "      <td>NaN</td>\n",
       "      <td>NaN</td>\n",
       "      <td>NaN</td>\n",
       "      <td>NaN</td>\n",
       "      <td>NaN</td>\n",
       "      <td>NaN</td>\n",
       "      <td>NaN</td>\n",
       "    </tr>\n",
       "    <tr>\n",
       "      <th>102</th>\n",
       "      <td>3.0</td>\n",
       "      <td>NaN</td>\n",
       "      <td>NaN</td>\n",
       "      <td>NaN</td>\n",
       "      <td>NaN</td>\n",
       "      <td>NaN</td>\n",
       "      <td>NaN</td>\n",
       "      <td>NaN</td>\n",
       "      <td>NaN</td>\n",
       "      <td>NaN</td>\n",
       "      <td>...</td>\n",
       "      <td>NaN</td>\n",
       "      <td>NaN</td>\n",
       "      <td>NaN</td>\n",
       "      <td>2.0</td>\n",
       "      <td>NaN</td>\n",
       "      <td>NaN</td>\n",
       "      <td>NaN</td>\n",
       "      <td>NaN</td>\n",
       "      <td>NaN</td>\n",
       "      <td>NaN</td>\n",
       "    </tr>\n",
       "    <tr>\n",
       "      <th>...</th>\n",
       "      <td>...</td>\n",
       "      <td>...</td>\n",
       "      <td>...</td>\n",
       "      <td>...</td>\n",
       "      <td>...</td>\n",
       "      <td>...</td>\n",
       "      <td>...</td>\n",
       "      <td>...</td>\n",
       "      <td>...</td>\n",
       "      <td>...</td>\n",
       "      <td>...</td>\n",
       "      <td>...</td>\n",
       "      <td>...</td>\n",
       "      <td>...</td>\n",
       "      <td>...</td>\n",
       "      <td>...</td>\n",
       "      <td>...</td>\n",
       "      <td>...</td>\n",
       "      <td>...</td>\n",
       "      <td>...</td>\n",
       "      <td>...</td>\n",
       "    </tr>\n",
       "    <tr>\n",
       "      <th>95</th>\n",
       "      <td>5.0</td>\n",
       "      <td>NaN</td>\n",
       "      <td>NaN</td>\n",
       "      <td>NaN</td>\n",
       "      <td>NaN</td>\n",
       "      <td>NaN</td>\n",
       "      <td>NaN</td>\n",
       "      <td>NaN</td>\n",
       "      <td>NaN</td>\n",
       "      <td>NaN</td>\n",
       "      <td>...</td>\n",
       "      <td>NaN</td>\n",
       "      <td>NaN</td>\n",
       "      <td>NaN</td>\n",
       "      <td>NaN</td>\n",
       "      <td>NaN</td>\n",
       "      <td>NaN</td>\n",
       "      <td>NaN</td>\n",
       "      <td>NaN</td>\n",
       "      <td>NaN</td>\n",
       "      <td>NaN</td>\n",
       "    </tr>\n",
       "    <tr>\n",
       "      <th>96</th>\n",
       "      <td>5.0</td>\n",
       "      <td>NaN</td>\n",
       "      <td>5.0</td>\n",
       "      <td>NaN</td>\n",
       "      <td>NaN</td>\n",
       "      <td>NaN</td>\n",
       "      <td>NaN</td>\n",
       "      <td>NaN</td>\n",
       "      <td>NaN</td>\n",
       "      <td>NaN</td>\n",
       "      <td>...</td>\n",
       "      <td>NaN</td>\n",
       "      <td>NaN</td>\n",
       "      <td>NaN</td>\n",
       "      <td>NaN</td>\n",
       "      <td>NaN</td>\n",
       "      <td>NaN</td>\n",
       "      <td>NaN</td>\n",
       "      <td>NaN</td>\n",
       "      <td>NaN</td>\n",
       "      <td>NaN</td>\n",
       "    </tr>\n",
       "    <tr>\n",
       "      <th>97</th>\n",
       "      <td>4.0</td>\n",
       "      <td>NaN</td>\n",
       "      <td>2.0</td>\n",
       "      <td>NaN</td>\n",
       "      <td>NaN</td>\n",
       "      <td>NaN</td>\n",
       "      <td>NaN</td>\n",
       "      <td>NaN</td>\n",
       "      <td>NaN</td>\n",
       "      <td>NaN</td>\n",
       "      <td>...</td>\n",
       "      <td>NaN</td>\n",
       "      <td>NaN</td>\n",
       "      <td>NaN</td>\n",
       "      <td>NaN</td>\n",
       "      <td>NaN</td>\n",
       "      <td>NaN</td>\n",
       "      <td>NaN</td>\n",
       "      <td>NaN</td>\n",
       "      <td>NaN</td>\n",
       "      <td>NaN</td>\n",
       "    </tr>\n",
       "    <tr>\n",
       "      <th>98</th>\n",
       "      <td>NaN</td>\n",
       "      <td>NaN</td>\n",
       "      <td>NaN</td>\n",
       "      <td>NaN</td>\n",
       "      <td>NaN</td>\n",
       "      <td>NaN</td>\n",
       "      <td>NaN</td>\n",
       "      <td>NaN</td>\n",
       "      <td>NaN</td>\n",
       "      <td>NaN</td>\n",
       "      <td>...</td>\n",
       "      <td>NaN</td>\n",
       "      <td>NaN</td>\n",
       "      <td>NaN</td>\n",
       "      <td>NaN</td>\n",
       "      <td>NaN</td>\n",
       "      <td>NaN</td>\n",
       "      <td>NaN</td>\n",
       "      <td>NaN</td>\n",
       "      <td>NaN</td>\n",
       "      <td>NaN</td>\n",
       "    </tr>\n",
       "    <tr>\n",
       "      <th>99</th>\n",
       "      <td>4.0</td>\n",
       "      <td>NaN</td>\n",
       "      <td>5.0</td>\n",
       "      <td>NaN</td>\n",
       "      <td>NaN</td>\n",
       "      <td>NaN</td>\n",
       "      <td>NaN</td>\n",
       "      <td>NaN</td>\n",
       "      <td>NaN</td>\n",
       "      <td>NaN</td>\n",
       "      <td>...</td>\n",
       "      <td>NaN</td>\n",
       "      <td>NaN</td>\n",
       "      <td>NaN</td>\n",
       "      <td>NaN</td>\n",
       "      <td>NaN</td>\n",
       "      <td>NaN</td>\n",
       "      <td>NaN</td>\n",
       "      <td>NaN</td>\n",
       "      <td>NaN</td>\n",
       "      <td>NaN</td>\n",
       "    </tr>\n",
       "  </tbody>\n",
       "</table>\n",
       "<p>943 rows × 1682 columns</p>\n",
       "</div>"
      ],
      "text/plain": [
       "item_id    1   10  100  1000  1001  1002  1003  1004  1005  1006  ...  990  \\\n",
       "user_id                                                           ...        \n",
       "1        5.0  3.0  5.0   NaN   NaN   NaN   NaN   NaN   NaN   NaN  ...  NaN   \n",
       "10       4.0  NaN  5.0   NaN   NaN   NaN   NaN   NaN   NaN   NaN  ...  NaN   \n",
       "100      NaN  NaN  NaN   NaN   NaN   NaN   NaN   NaN   NaN   NaN  ...  3.0   \n",
       "101      3.0  NaN  NaN   NaN   NaN   NaN   NaN   NaN   NaN   NaN  ...  NaN   \n",
       "102      3.0  NaN  NaN   NaN   NaN   NaN   NaN   NaN   NaN   NaN  ...  NaN   \n",
       "...      ...  ...  ...   ...   ...   ...   ...   ...   ...   ...  ...  ...   \n",
       "95       5.0  NaN  NaN   NaN   NaN   NaN   NaN   NaN   NaN   NaN  ...  NaN   \n",
       "96       5.0  NaN  5.0   NaN   NaN   NaN   NaN   NaN   NaN   NaN  ...  NaN   \n",
       "97       4.0  NaN  2.0   NaN   NaN   NaN   NaN   NaN   NaN   NaN  ...  NaN   \n",
       "98       NaN  NaN  NaN   NaN   NaN   NaN   NaN   NaN   NaN   NaN  ...  NaN   \n",
       "99       4.0  NaN  5.0   NaN   NaN   NaN   NaN   NaN   NaN   NaN  ...  NaN   \n",
       "\n",
       "item_id  991  992  993  994  995  996  997  998  999  \n",
       "user_id                                               \n",
       "1        NaN  NaN  NaN  NaN  NaN  NaN  NaN  NaN  NaN  \n",
       "10       NaN  NaN  NaN  NaN  NaN  NaN  NaN  NaN  NaN  \n",
       "100      NaN  NaN  NaN  NaN  NaN  NaN  NaN  NaN  NaN  \n",
       "101      NaN  NaN  NaN  NaN  NaN  NaN  NaN  NaN  NaN  \n",
       "102      NaN  NaN  2.0  NaN  NaN  NaN  NaN  NaN  NaN  \n",
       "...      ...  ...  ...  ...  ...  ...  ...  ...  ...  \n",
       "95       NaN  NaN  NaN  NaN  NaN  NaN  NaN  NaN  NaN  \n",
       "96       NaN  NaN  NaN  NaN  NaN  NaN  NaN  NaN  NaN  \n",
       "97       NaN  NaN  NaN  NaN  NaN  NaN  NaN  NaN  NaN  \n",
       "98       NaN  NaN  NaN  NaN  NaN  NaN  NaN  NaN  NaN  \n",
       "99       NaN  NaN  NaN  NaN  NaN  NaN  NaN  NaN  NaN  \n",
       "\n",
       "[943 rows x 1682 columns]"
      ]
     },
     "execution_count": 9,
     "metadata": {},
     "output_type": "execute_result"
    }
   ],
   "source": [
    "# Construct the utility matrix\n",
    "ratings_matrix = ratings_df.pivot_table(index='user_id', columns='item_id', values='rating', fill_value=np.NaN)\n",
    "ratings_matrix\n",
    "\n",
    "# NOTE:\n",
    "# The NaN values represent movies that the user has not rated"
   ]
  },
  {
   "cell_type": "markdown",
   "metadata": {},
   "source": [
    "For the purpose of subsequent discussion, we assume that the user-item ratings matrix (i.e. ratings_matrix)\n",
    "is an incomplete $m × n$ matrix $R = [r_{uj}]$ containing $m=943$ users and $n=1682$ items.\n",
    "\n",
    "We can see that only a small subset of the ratings matrix is specified or observed. Our goal would be to understand which items (i.e. movies) we should recommend to the users that would be likely to see. Like all other collaborative filtering algorithms, neighborhood-based collaborative filtering algorithms can be formulated in one of two ways to address the the recommendation problem:\n",
    "1. Predicting the rating value of a user-item combination.\n",
    "2. Determining the top-k items or top-k users."
   ]
  },
  {
   "cell_type": "markdown",
   "metadata": {},
   "source": [
    "Lastly, in the context of recommender systems, especially user-based collaborative filtering, sparsity refers to the proportion of missing ratings in the user-item interaction matrix. For a robust collaborative filtering model to work a dense matrix would be needed so that we can use the collaborative power of other users. In other words, with a sparse matrix user \"similarities\" might be unreliable and there would be a low coverage of items."
   ]
  },
  {
   "cell_type": "code",
   "execution_count": 10,
   "metadata": {},
   "outputs": [
    {
     "name": "stdout",
     "output_type": "stream",
     "text": [
      "Matrix sparsity: 93.70%\n"
     ]
    }
   ],
   "source": [
    "# Calculate the sparsity of the ratings matrix\n",
    "total_elements = ratings_matrix.size\n",
    "non_nan_elements = np.count_nonzero(~np.isnan(ratings_matrix))\n",
    "density = non_nan_elements / total_elements\n",
    "\n",
    "print(\"Matrix sparsity: {:.2%}\".format(1 - density)) # sparsity = (# ratings) / ( total # of elements)\n",
    "\n",
    "# NOTE:\n",
    "# Sparsity is a measure of how much of the matrix is empty (i.e. not rated)"
   ]
  },
  {
   "cell_type": "markdown",
   "metadata": {},
   "source": [
    "There is no universally \"good\" level of sparsity, as it depends on the specific dataset and the methods used for recommendation. However, some general guidelines suggest that datasets with sparsity levels below 80% are considered dense enough to perform well with user-based collaborative filtering. On the other hand, Datasets with sparsity levels above 90% are considered sparse. This high level of sparsity can pose significant challenges for user-based collaborative filtering methods.\n",
    "\n",
    "For the purposes of the notebook, we won't be bothered to much about the sparsity as the main goal is to explore the mathematics and underlying properties of the different collaborative filtering techniques."
   ]
  },
  {
   "cell_type": "markdown",
   "metadata": {},
   "source": [
    "### 2a. Memory-based Collaborative Filtering"
   ]
  },
  {
   "cell_type": "markdown",
   "metadata": {},
   "source": [
    "#### User-Based Methods"
   ]
  },
  {
   "cell_type": "code",
   "execution_count": 11,
   "metadata": {},
   "outputs": [],
   "source": [
    "# Import cornac library (for collaborative filtering)\n",
    "import cornac\n",
    "from cornac.eval_methods import RatioSplit\n",
    "from cornac.models import UserKNN"
   ]
  },
  {
   "cell_type": "markdown",
   "metadata": {},
   "source": [
    "In the memory-based collaborative filtering approach, user-based neighborhoods are defined in order to identify similar users to the _target_ user for whom the rating predictions are being computed. \n",
    "\n",
    "For the $m × n$ ratings matrix $R = [r_{uj}]$ with $m$ users and $n$ items, let $I_u$ denote the set of item indices for which ratings have been specified by user (row) $u$. The problem at hand is to predict the user's rating for item $j$.\n",
    "\n",
    "The most common **predictive function** of the neighborhood-based predictive function is the following:"
   ]
  },
  {
   "cell_type": "markdown",
   "metadata": {},
   "source": [
    "$$ \\hat{r}_{uj} = \\mu_u + \\frac{ \\sum\\limits_{v \\in P^{k}_u(j)} \\text{Sim}(u, v) \\cdot (r_{vj} - \\mu_v)} {\\sum\\limits_{v \\in P^{k}_u(j)} \\text{Sim}(u, v)} = \\mu_u + \\frac{ \\sum\\limits_{v \\in P^{k}_u(j)} \\text{Sim}(u, v) \\cdot s_{vj}} {\\sum\\limits_{v \\in P^{k}_u(j)} \\text{Sim}(u, v)} $$"
   ]
  },
  {
   "cell_type": "markdown",
   "metadata": {},
   "source": [
    "where:\n",
    "- $\\hat{r}_{uj}$ indicates a predicted rating of user $u$ for item $j$.\n",
    "- $\\mu_u$ being the average rating of the user $u$.\n",
    "- $r_{uj} $ being the rating of user $u$ for item $j$.\n",
    "- $ P_u(j) = $ be the set of $k$ closest users to target user $u$, who have specified ratings for item $ j $.\n",
    "- $\\text{Sim}(u, v)$ being the similarity of target user $u$ with user $v$.\n",
    "- $s_{vj} = r_{vj} - \\mu_v, \\space\\space \\forall v \\in \\{1, \\dots, m\\}$.\n",
    "\n",
    "The average rating $\\mu_u$ of the user is calculated as:\n",
    "$$ \\mu_u = \\frac{\\Sigma_{k \\in \\mathcal{I}_u} r_{uk}}{|\\mathcal{I}_u|} \\ \\ \\forall u \\in \\{1, \\dots, m\\}$$"
   ]
  },
  {
   "cell_type": "markdown",
   "metadata": {},
   "source": [
    "💡The reason why we substract the mean of each user with their ratings (i.e. standarise the ratings) is that different users may provide ratings on different scales. One user might rate all items highly, whereas another user might rate all items negatively. The raw ratings, therefore, need to be mean-centered in row-wise fashion, before determining the (weighted) average rating of the peer group. The mean-centered rating $s_{uj}$ of a user $u$ for item $j$ is defined by subtracting her mean rating from the raw rating $r_{uj}$ as shown above.💡"
   ]
  },
  {
   "cell_type": "code",
   "execution_count": 12,
   "metadata": {},
   "outputs": [
    {
     "name": "stdout",
     "output_type": "stream",
     "text": [
      "# Average rating of user 196: 3.62\n",
      "# Average rating of user 350: 4.32\n"
     ]
    }
   ],
   "source": [
    "# Average rating of user 196\n",
    "print(\"# Average rating of user 196:\", round(ratings_df[ratings_df[\"user_id\"] == \"196\"][\"rating\"].mean(), 2))\n",
    "\n",
    "# Average rating of user 350\n",
    "print(\"# Average rating of user 350:\", round(ratings_df[ratings_df[\"user_id\"] == \"350\"][\"rating\"].mean(), 2))"
   ]
  },
  {
   "cell_type": "markdown",
   "metadata": {},
   "source": [
    "We can see that all the components of the predictive function are known apart from the $\\text{Sim}(u,v)$ which is not specified yet. In order to determine the neighborhood of the target user $u$, their **similarity** to all the other users needs to computed. \n",
    "\n",
    "There are different similarities that can be used with each one having their pros and cons. An example of popular similarities are the Pearson similarity and the Raw Cosine similarity:"
   ]
  },
  {
   "cell_type": "markdown",
   "metadata": {},
   "source": [
    "\\begin{align*}\n",
    "\\mathrm{Sim}(u,v) = \\mathrm{Pearson}(u,v) &= \\frac{\\Sigma_{k \\in \\mathcal{I}_u \\cap \\mathcal{I}_v} (r_{uk} - \\mu_u) * (r_{vk} - \\mu_v)}{\\sqrt{\\Sigma_{k \\in \\mathcal{I}_u \\cap \\mathcal{I}_v} (r_{uk} - \\mu_u)^2} * \\sqrt{\\Sigma_{k \\in \\mathcal{I}_u \\cap \\mathcal{I}_v} (r_{vk} - \\mu_v)^2}}\n",
    "\\end{align*}"
   ]
  },
  {
   "cell_type": "markdown",
   "metadata": {},
   "source": [
    "\\begin{align*}\n",
    "\\mathrm{Sim}(u,v) = \\mathrm{RawCosine}(u,v) &= \\frac{\\Sigma_{k \\in \\mathcal{I}_u \\cap \\mathcal{I}_v} r_{uk} * r_{vk}}{\\sqrt{\\Sigma_{k \\in \\mathcal{I}_u \\cap \\mathcal{I}_v} r_{uk}^2} * \\sqrt{\\Sigma_{k \\in \\mathcal{I}_u \\cap \\mathcal{I}_v} r_{vk}^2}}\n",
    "\\end{align*}"
   ]
  },
  {
   "cell_type": "markdown",
   "metadata": {},
   "source": [
    "The reliability of the similarity function $\\text{Sim}(u, v)$ is often affected by the number of common ratings $|I_u ∩ I_v|$ between users $u$ and $v$. <br>\n",
    "**Note:** The Pearson correlation coefficient is preferable to the raw cosine because of the bias adjustment effect of mean-centering."
   ]
  },
  {
   "cell_type": "markdown",
   "metadata": {},
   "source": [
    "In order to build our model, we will split our data into train and test set similarly to traditional ML models."
   ]
  },
  {
   "cell_type": "code",
   "execution_count": 13,
   "metadata": {},
   "outputs": [],
   "source": [
    "VERBOSE=False\n",
    "SEED=42\n",
    "\n",
    "# Split the data into training and testing sets\n",
    "train_test_ratio_split = RatioSplit(\n",
    "    cornac_ratings, \n",
    "    test_size=0.2,       # Use 20% of the data for testing.\n",
    "    rating_threshold=3,  # Only items with ratings >= 3 are considered as relevant. (recall unbalanced rating scale)\n",
    "    seed=SEED,\n",
    "    verbose=VERBOSE,\n",
    "    )"
   ]
  },
  {
   "cell_type": "markdown",
   "metadata": {},
   "source": [
    "![Train & Test in Recommender Systems](img/train-test-ml-recsys.png)"
   ]
  },
  {
   "cell_type": "code",
   "execution_count": 14,
   "metadata": {},
   "outputs": [],
   "source": [
    "# Define evaluation metrics for the collaborative filtering model\n",
    "METRICS = [\n",
    "    cornac.metrics.RMSE(),\n",
    "    cornac.metrics.MAE(),\n",
    "    cornac.metrics.Precision(k=10), # Precision @k = (# of relevant movies recommended) / k\n",
    "    cornac.metrics.Recall(k=10),    # Recall @k = (# of relevant movies recommended) / (# of relevant movies)\n",
    "    cornac.metrics.NDCG(k=10),\n",
    "    cornac.metrics.MAP(),\n",
    "    ]\n",
    "\n",
    "# NOTE:\n",
    "# Relevant movies are those with ratings >= 3"
   ]
  },
  {
   "cell_type": "code",
   "execution_count": 15,
   "metadata": {},
   "outputs": [],
   "source": [
    "# Number of neighbors (i.e. look 50 \"nearest\" users)\n",
    "K=50\n",
    "\n",
    "# Define k-nn models with different similarity metrics\n",
    "uknn_pearson = UserKNN(\n",
    "    k=K, similarity=\"pearson\", mean_centered=True, name=\"UserKNN-pearson\", verbose=VERBOSE\n",
    ")\n",
    "\n",
    "uknn_adjusted_cosine = UserKNN(\n",
    "    k=K, similarity=\"cosine\", mean_centered=True, name=\"UserKNN-adjusted-cosine\", verbose=VERBOSE\n",
    ")\n",
    "\n",
    "uknn_raw_cosine = UserKNN(\n",
    "    k=K, similarity=\"cosine\", mean_centered=False, name=\"UserKNN-raw-cosine\", verbose=VERBOSE\n",
    ")\n",
    "\n",
    "# NOTE:\n",
    "# The number of K was selected randomly as the determination of the best K is out of the scope of this notebook. \n",
    "# However, the best K can be determined using hyperparameter tuning techniques with cross-validation similarly to traditional ML techniques."
   ]
  },
  {
   "cell_type": "code",
   "execution_count": 16,
   "metadata": {},
   "outputs": [
    {
     "name": "stdout",
     "output_type": "stream",
     "text": [
      "\n",
      "TEST:\n",
      "...\n",
      "                        |    MAE |   RMSE |    MAP | NDCG@10 | Precision@10 | Recall@10 | Train (s) | Test (s)\n",
      "----------------------- + ------ + ------ + ------ + ------- + ------------ + --------- + --------- + --------\n",
      "UserKNN-pearson         | 0.7511 | 0.9196 | 0.0227 |  0.0004 |       0.0003 |    0.0002 |    0.0588 |   3.7701\n",
      "UserKNN-adjusted-cosine | 0.7511 | 0.9196 | 0.0227 |  0.0004 |       0.0003 |    0.0002 |    0.0388 |   3.7928\n",
      "UserKNN-raw-cosine      | 0.7616 | 0.9278 | 0.0251 |  0.0004 |       0.0005 |    0.0004 |    0.0393 |   3.7907\n",
      "\n"
     ]
    }
   ],
   "source": [
    "# Execute an experiment to evaluate the models on the pre-specified metrics\n",
    "experiment = cornac.Experiment(\n",
    "    eval_method=train_test_ratio_split,\n",
    "    models=[uknn_pearson, uknn_adjusted_cosine, uknn_raw_cosine],\n",
    "    metrics=METRICS,\n",
    ")\n",
    "experiment.run()\n",
    "\n",
    "# NOTE:\n",
    "# Generally, the adjusted cosine similarity is used in item-based collaborative filtering as the average rating of each item (and not user) in the ratings matrix is subtracted from each rating.\n",
    "# However, in user-based collaborative filtering, the mean-centered cosine similarity is used as the average rating of each user is subtracted from each rating (hence the same results)."
   ]
  },
  {
   "cell_type": "markdown",
   "metadata": {},
   "source": [
    "#### Similarity Weighting"
   ]
  },
  {
   "cell_type": "markdown",
   "metadata": {},
   "source": [
    "As discussed in the beginning, the distribution of ratings typically shows a **long-tail** distribution in many real scenarios. Some movies may be very popular and they may repeatedly occur as commonly rated items by different users.\n",
    "\n",
    "The negative impact of these recommendations can be experienced both during the peer group computation and also during the prediction computation. This notion is similar in principle to the deterioration in retrieval quality caused by popular and noninformative words (e.g., “a,” “an,” “the”) in document retrieval applications. Therefore, the proposed solutions used in collaborative filtering are also similar to those used in the information retrieval literature."
   ]
  },
  {
   "cell_type": "markdown",
   "metadata": {},
   "source": [
    "Just as the notion of Inverse Document Frequency (idf) exists in the information retrieval, one can use the notion of Inverse User Frequency as follows:"
   ]
  },
  {
   "cell_type": "markdown",
   "metadata": {},
   "source": [
    "\n",
    "$$ w_j = \\log \\bigg( \\frac{m}{m_j} \\bigg), \\space \\forall j \\in \\{1, \\dots n\\} $$"
   ]
  },
  {
   "cell_type": "markdown",
   "metadata": {},
   "source": [
    "where \n",
    "- $ m= $ total number of users.\n",
    "- $ m_j = $ total number of ratings of item $ j $.\n",
    "- $ n= $ total number of items."
   ]
  },
  {
   "cell_type": "markdown",
   "metadata": {},
   "source": [
    "As a result, the Pearson similarity can be rewritten using the idf weights creating the following formula:"
   ]
  },
  {
   "cell_type": "markdown",
   "metadata": {},
   "source": [
    "\\begin{align*}\n",
    "\n",
    "\\mathrm{Pearson}(u,v) &= \\frac{\\Sigma_{k \\in \\mathcal{I}_u \\cap \\mathcal{I}_v} w_{k}(r_{uk} - \\mu_u) * (r_{vk} - \\mu_v)}{\\sqrt{\\Sigma_{k \\in \\mathcal{I}_u \\cap \\mathcal{I}_v} w_{k}(r_{uk} - \\mu_u)^2} * \\sqrt{\\Sigma_{k \\in \\mathcal{I}_u \\cap \\mathcal{I}_v} w_{k}(r_{vk} - \\mu_v)^2}}\n",
    "\n",
    "\\end{align*}"
   ]
  },
  {
   "cell_type": "code",
   "execution_count": 17,
   "metadata": {},
   "outputs": [],
   "source": [
    "# Create idf weighting model using the pearson similarity metric\n",
    "uknn_idf = UserKNN(\n",
    "  k=K, similarity=\"pearson\", weighting=\"idf\", name=\"UserKNN-IDF\", verbose=VERBOSE\n",
    ")"
   ]
  },
  {
   "cell_type": "code",
   "execution_count": 18,
   "metadata": {},
   "outputs": [
    {
     "name": "stdout",
     "output_type": "stream",
     "text": [
      "\n",
      "TEST:\n",
      "...\n",
      "                   |    MAE |   RMSE |    MAP | NDCG@10 | Precision@10 | Recall@10 | Train (s) | Test (s)\n",
      "------------------ + ------ + ------ + ------ + ------- + ------------ + --------- + --------- + --------\n",
      "UserKNN-pearson    | 0.7511 | 0.9196 | 0.0227 |  0.0004 |       0.0003 |    0.0002 |    0.0454 |   3.8609\n",
      "UserKNN-raw-cosine | 0.7616 | 0.9278 | 0.0251 |  0.0004 |       0.0005 |    0.0004 |    0.0400 |   3.7682\n",
      "UserKNN-IDF        | 0.7519 | 0.9205 | 0.0219 |  0.0004 |       0.0003 |    0.0002 |    0.0392 |   3.7428\n",
      "\n"
     ]
    }
   ],
   "source": [
    "# Execute an experiment to evaluate the models on RMSE and MAE\n",
    "experiment_with_idf = cornac.Experiment(\n",
    "    eval_method=train_test_ratio_split,\n",
    "    models=[uknn_pearson, uknn_raw_cosine, uknn_idf],\n",
    "    metrics=METRICS,\n",
    ")\n",
    "experiment_with_idf.run()"
   ]
  },
  {
   "cell_type": "markdown",
   "metadata": {},
   "source": [
    "In our case, it seems that IDF weighting does not perform better than the pearson correlation. A possible explanation can be that, even though IDF weighting gives more weight to less common items, if these items are not necessarily better indicators of user preferences but are simply less interacted with, this can lead to misleading similarity calculations. As a result, this can lead to an overemphasis on rare items which then leads to recommending items that are not truly relevant, reducing precision and recall.\n",
    "\n",
    "It's generally a good idea to experiment with and without IDF weighting to see if it improves your specific recommendation task. In many cases, incorporating such weighting schemes can lead to more personalized and accurate recommendations as it decreases popularity bias."
   ]
  },
  {
   "cell_type": "markdown",
   "metadata": {},
   "source": [
    "Overall, memory-based collaborative filtering, like any other traditional ML techniques, come with their advantages and disadvantages:\n",
    "- **Pros**:\n",
    "  1. Easy to implement.\n",
    "  2. Easy to explain.\n",
    "\n",
    "- **Cons**:\n",
    "  1. Don't work well with sparse data (i.e. can't find enough users to \"collaborate\").\n",
    "  2. Can be biased towards popular items reduce diversity and novelty. (i.e. **Popularity Bias**).\n",
    "  3. Perform poorly with new users or items (**cold start problem**) because there is not enough interaction data to calculate similarities effectively. In such cases, content-based and knowledge-based methods are more preferably as they are more robust than collaborative models in the presence of **cold starts**.\n",
    "  4. Don't scale well with large datasets."
   ]
  },
  {
   "cell_type": "markdown",
   "metadata": {},
   "source": [
    "### 2b. Model-based collaborative filtering"
   ]
  },
  {
   "cell_type": "markdown",
   "metadata": {},
   "source": [
    "Neighborhood-based methods seen above are generalizations of instance-based learning methods or lazy learning methods in which the prediction approach is specific to the instance being predicted. For example, in user-based neighborhood methods, the peers of the target user are determined in order to perform the prediction.\n",
    "\n",
    "In **model-based methods**, a summarized model of the data is created up front, as with supervised or unsupervised machine learning methods. Therefore, the training (or model building phase) is clearly separated from the prediction phase."
   ]
  },
  {
   "cell_type": "markdown",
   "metadata": {},
   "source": [
    "#### Matrix Factorisation"
   ]
  },
  {
   "cell_type": "markdown",
   "metadata": {},
   "source": [
    "One of the most popular techniques of model-bases collaborative filtering is **Matrix Factorisation**. Factorisation is, in fact, a more general way of approximating a matrix (e.g. a ratings matrix) when it is prone to dimensionality reduction because of correlations between columns (or rows). The basic idea of dimensionality reduction methods is to rotate the axis system, so that pairwise correlations between dimensions are removed. Because of the inherent redundancies in the data, the fully specified low rank approximation can be determined even with a small subset of the entries in the original matrix. This fully-specified low rank approximation often provides a robust estimation of the missing entries.\n",
    "\n",
    "In real life, the rating matrix we observe is very sparse. If we then assume that most matrices have a low-rank representation (it can be reconstructed from relatively few basis vectors), then one promising approach is to conduct matrix factorisation."
   ]
  },
  {
   "cell_type": "markdown",
   "metadata": {},
   "source": [
    "💡The key differences among various matrix factorization methods arise in terms of the constraints imposed on U and V (e.g., orthogonality or non-negativity of the latent vectors) and the nature of the objective function (e.g., minimizing the Frobenius norm or maximizing the likelihood estimation in a generative model). These differences play a key role in the usability of the matrix factorization model in various real-world scenarios.💡"
   ]
  },
  {
   "cell_type": "markdown",
   "metadata": {},
   "source": [
    "##### [a] Singular Value Decomposition (SVD) in Linear Algebra"
   ]
  },
  {
   "cell_type": "markdown",
   "metadata": {},
   "source": [
    "**Singular value decomposition (SVD)** in classical linear algebra a form of matrix factorisation in which the _columns of $U$ and $V$ are constrained to be mutually orthogonal_. Mutual orthogonality has the advantage that the concepts can be completely independent of one another, and they can be geometrically interpreted in scatterplots. However, the semantic interpretation of such a decomposition is generally more difficult, because these latent vectors contain both positive and negative quantities, and are constrained by their orthogonality to other concepts."
   ]
  },
  {
   "cell_type": "markdown",
   "metadata": {},
   "source": [
    "In SVD, one can approximately factorise the ratings matrix $R$ by using truncated SVD of rank $k ≪ min\\{m, n\\}$. <br>\n",
    "For any real rating matrix $ R \\in \\mathbb{R}^{M \\times N} $, SVD seeks the following decomposition:\n",
    "\n",
    "$$ R = Q_k \\Sigma_k P_{k}^{T} $$\n",
    "\n",
    "Here, $Q_k$, $\\Sigma_k$, and $P_k$ are matrices of size $m×k$, $k×k$, and $n×k$, respectively. However,the diagonal matrix $\\Sigma_k$ can be absorbed in either the user factors $Q_k$ or the item factors $P_k$. By convention, the user factors and item factors are defined as follows:\n",
    "\n",
    "- $ U = Q_k \\Sigma_k $\n",
    "- $ V = P_k $\n",
    "\n",
    "Therefore, the factorisation of the ratings matrix $R$ is defined as $R = UV^{T}$. As long as the user and item factor matrices have orthogonal columns, it is easy to convert the resulting factorization into a form that is compliant with SVD.\n",
    "\n",
    "SVD can be formulated, in general, as the following optimisation problem over the matrices $U$ and $V$:\n",
    "\n",
    "$$ \\text{Minimise} \\space J = \\frac{1}{2} ||R - UV^T||^2 $$\n",
    "\n",
    "subject to:\n",
    "- Columns of $U$ are mutually orthogonal.\n",
    "- Columns of $V$ are mutually orthogonal."
   ]
  },
  {
   "cell_type": "markdown",
   "metadata": {},
   "source": [
    "##### [b] Singular Value Decomposition (SVD) in Collaborative Filtering"
   ]
  },
  {
   "cell_type": "markdown",
   "metadata": {},
   "source": [
    "In collaborative filtering, the goal is to approximate the user-item rating matrix $R$ by factorizing it into two lower-rank matrices $U$ and $V$, such that $R≈UV^T$. The optimisation methods (such as Stochastic Gradient Descent or Alternating Least Squares) focus on minimizing the prediction error on the observed entries, not on maintaining orthogonality. Also, the SVD implementation of collaborative filtering includes bias terms for users and items to account for systematic rating deviations. The inclusion of these biases alters the structure of the factorization compared to the traditional SVD, making orthogonality less relevant."
   ]
  },
  {
   "cell_type": "markdown",
   "metadata": {},
   "source": [
    "As a result, the optimisation problem (with regularisation) that is being solved in the SVD implementation is the following:"
   ]
  },
  {
   "cell_type": "markdown",
   "metadata": {},
   "source": [
    "$$ \\text{Minimize } J = \\frac{1}{2} \\sum_{(u, i) \\in \\mathcal{S}} \\left( R_{ui} - \\mu - b_u - b_i - U_u \\cdot V_i \\right)^2 + \\frac{\\lambda}{2} \\left( \\sum_{u=1}^{M} \\|U_u\\|^2 + \\sum_{i=1}^{N} \\|V_i\\|^2 + \\sum_{u=1}^{M} b_u^2 + \\sum_{i=1}^{N} b_i^2 \\right) $$ \n",
    "\n",
    "where:\n",
    "- $\\mathcal{S}$ be the set of specified entries in the ratings matrix.\n",
    "- $ \\mu $ is the global average rating.\n",
    "- $ b_u $ is the bias of user $u$.\n",
    "- $ b_i $ is the bias of item $i$ "
   ]
  },
  {
   "cell_type": "markdown",
   "metadata": {},
   "source": [
    "The optimisation problem in order to learn $b_u$, $b_i$, $U_v$ and $V_i$ can traditionally be solved using the following methods:\n",
    "  - Stochastic Gradient Descent (SGD)\n",
    "  - Alternating Least Squares (ALS)\n",
    "  - etc.\n",
    "\n",
    "Each of these algorithms has its own strengths and trade-offs, but **SGD remains a popular choice** due to its advantages:\n",
    "  - Scalability: SGD can handle large-scale data efficiently, making it suitable for large recommender system datasets.\n",
    "  - Simplicity: The algorithm is relatively simple to implement and understand.\n",
    "  - Effectiveness: Despite its simplicity, SGD is highly effective at finding good approximations of the user and item latent factors."
   ]
  },
  {
   "cell_type": "code",
   "execution_count": 19,
   "metadata": {},
   "outputs": [],
   "source": [
    "from cornac.models import SVD"
   ]
  },
  {
   "cell_type": "code",
   "execution_count": 20,
   "metadata": {},
   "outputs": [
    {
     "name": "stdout",
     "output_type": "stream",
     "text": [
      "\n",
      "TEST:\n",
      "...\n",
      "                |    MAE |   RMSE |    MAP | NDCG@10 | Precision@10 | Recall@10 | Train (s) | Test (s)\n",
      "--------------- + ------ + ------ + ------ + ------- + ------------ + --------- + --------- + --------\n",
      "UserKNN-pearson | 0.7511 | 0.9196 | 0.0227 |  0.0004 |       0.0003 |    0.0002 |    0.0591 |   3.7616\n",
      "UserKNN-IDF     | 0.7519 | 0.9205 | 0.0219 |  0.0004 |       0.0003 |    0.0002 |    0.0404 |   3.7738\n",
      "UserSVD         | 0.7334 | 0.8926 | 0.0568 |  0.0924 |       0.0840 |    0.0379 |    0.3107 |   0.5046\n",
      "\n"
     ]
    }
   ],
   "source": [
    "MAX_ITER=20\n",
    "LEARNING_RATE=0.01\n",
    "LAMDA_REG=0.02\n",
    "\n",
    "# Define the SVD model with regularisation\n",
    "svd = SVD(\n",
    "    k=K, max_iter=MAX_ITER, learning_rate=LEARNING_RATE, lambda_reg=LAMDA_REG, verbose=VERBOSE, name=\"UserSVD\"\n",
    ")\n",
    "\n",
    "# Compare SVD (model-based) with Pearson and IDF models (memory-based)\n",
    "cornac.Experiment(\n",
    "    eval_method=train_test_ratio_split,\n",
    "    models=[uknn_pearson, uknn_idf, svd],\n",
    "    metrics=METRICS\n",
    ").run()"
   ]
  },
  {
   "cell_type": "markdown",
   "metadata": {},
   "source": [
    "We can witness that the SVD model performs the best compared to the previous memory based approaches highlighting the robustness of model-based techniques."
   ]
  },
  {
   "cell_type": "markdown",
   "metadata": {},
   "source": [
    "Memory-based collaborative filtering techniques are powerful and here are some advantages and disadvantages that people should be aware of:\n",
    "- **Pros**:\n",
    "  1. Scalability.\n",
    "  2. Sparsity Handling.\n",
    "  3. Improved Accuracy.\n",
    "  4. Reduction of Overfitting.\n",
    "  5. Latent Factors Insight.\n",
    "\n",
    "- **Cons**:\n",
    "  1. Model-based approaches are often more complex and computationally intensive than memory-based methods.\n",
    "  2. Model-based methods often involve multiple hyperparameters that need to be carefully tuned, such as the number of latent factors, regularization parameters, and learning rates.\n",
    "  3. Similar to other collaborative filtering methods, model-based approaches suffer from the cold start problem. New users and items with no interaction history pose a challenge for making accurate recommendations."
   ]
  },
  {
   "cell_type": "markdown",
   "metadata": {},
   "source": [
    "There are different factorisation techniques that can be used. The following table is a generic breakdown (not exhaustive) of these techniques along with their Advantages and Disadvantages.\n",
    "\n",
    "| Method          | Constraints     | Objective                     | Advantages/Disadvantages                                                                                              |\n",
    "|-----------------|-----------------|-------------------------------|----------------------------------------------------------------------------------------------------------------------|\n",
    "| Unconstrained   | No constraints  | Frobenius + regularizer       | Highest quality solution<br>Good for most matrices<br>Regularization prevents overfitting<br>Poor interpretability  |\n",
    "| SVD             | Orthogonal Basis| Frobenius + regularizer       | Good visual interpretability<br>Out-of-sample recommendations<br>Good for dense matrices<br>Poor semantic interpretability<br>Suboptimal in sparse matrices |\n",
    "| NMF             | Non-negativity  | Frobenius + regularizer       | Good quality solution<br>High semantic interpretability<br>Loses interpretability with both like/dislike ratings<br>Less overfitting in some cases |\n"
   ]
  }
 ],
 "metadata": {
  "kernelspec": {
   "display_name": "venv",
   "language": "python",
   "name": "python3"
  },
  "language_info": {
   "codemirror_mode": {
    "name": "ipython",
    "version": 3
   },
   "file_extension": ".py",
   "mimetype": "text/x-python",
   "name": "python",
   "nbconvert_exporter": "python",
   "pygments_lexer": "ipython3",
   "version": "3.11.4"
  }
 },
 "nbformat": 4,
 "nbformat_minor": 2
}
